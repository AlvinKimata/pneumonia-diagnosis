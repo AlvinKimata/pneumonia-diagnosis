{
  "metadata": {
    "kernelspec": {
      "name": "python3",
      "display_name": "Python 3"
    },
    "language_info": {
      "name": "python",
      "version": "3.10.12",
      "mimetype": "text/x-python",
      "codemirror_mode": {
        "name": "ipython",
        "version": 3
      },
      "pygments_lexer": "ipython3",
      "nbconvert_exporter": "python",
      "file_extension": ".py"
    },
    "kaggle": {
      "accelerator": "gpu",
      "dataSources": [],
      "dockerImageVersionId": 30588,
      "isInternetEnabled": true,
      "language": "python",
      "sourceType": "notebook",
      "isGpuEnabled": true
    },
    "colab": {
      "provenance": [],
      "gpuType": "T4"
    },
    "accelerator": "GPU"
  },
  "nbformat_minor": 5,
  "nbformat": 4,
  "cells": [
    {
      "cell_type": "code",
      "source": [
        "!pip install -q kaggle"
      ],
      "metadata": {
        "tags": [],
        "trusted": true,
        "id": "ltq_DO-OgCvf"
      },
      "execution_count": 1,
      "outputs": [],
      "id": "ltq_DO-OgCvf"
    },
    {
      "cell_type": "code",
      "source": [
        "!mkdir '../root/.kaggle/'\n",
        "!touch '../root/.kaggle/kaggle.json'\n",
        "!echo '{\"username\":\"alvinkimata\",\"key\":\"7781eeebf57aca5dd54a6c192a875d5f\"}' >> '../root/.kaggle/kaggle.json'\n",
        "!chmod 600 '../root/.kaggle/kaggle.json'\n",
        "!cat '../root/.kaggle/kaggle.json'"
      ],
      "metadata": {
        "trusted": true,
        "colab": {
          "base_uri": "https://localhost:8080/"
        },
        "id": "fA5xRkxIgCvv",
        "outputId": "a7157894-193c-4a60-c809-38e5c17e4eed"
      },
      "execution_count": 2,
      "outputs": [
        {
          "output_type": "stream",
          "name": "stdout",
          "text": [
            "{\"username\":\"alvinkimata\",\"key\":\"7781eeebf57aca5dd54a6c192a875d5f\"}\n"
          ]
        }
      ],
      "id": "fA5xRkxIgCvv"
    },
    {
      "cell_type": "code",
      "source": [
        "#Download dataset from Kaggle.\n",
        "!kaggle datasets download -d paultimothymooney/chest-xray-pneumonia"
      ],
      "metadata": {
        "trusted": true,
        "colab": {
          "base_uri": "https://localhost:8080/"
        },
        "id": "ubGrX2dlgCvz",
        "outputId": "3f1714bb-7702-479d-ca79-a48573700e3e"
      },
      "execution_count": 3,
      "outputs": [
        {
          "output_type": "stream",
          "name": "stdout",
          "text": [
            "Downloading chest-xray-pneumonia.zip to /content\n",
            "100% 2.29G/2.29G [00:20<00:00, 177MB/s]\n",
            "100% 2.29G/2.29G [00:20<00:00, 120MB/s]\n"
          ]
        }
      ],
      "id": "ubGrX2dlgCvz"
    },
    {
      "cell_type": "code",
      "source": [
        "!unzip -q chest-xray-pneumonia.zip"
      ],
      "metadata": {
        "trusted": true,
        "id": "8bISizJIgCv3"
      },
      "execution_count": 4,
      "outputs": [],
      "id": "8bISizJIgCv3"
    },
    {
      "cell_type": "code",
      "source": [
        "import os\n",
        "import copy\n",
        "import random\n",
        "\n",
        "import numpy as np\n",
        "import pandas as pd\n",
        "from tqdm import tqdm\n",
        "import matplotlib.pyplot as plt\n",
        "from sklearn.preprocessing import LabelEncoder\n",
        "\n",
        "import torch\n",
        "import torchvision\n",
        "import torch.nn as nn\n",
        "from torch.utils.data import Dataset, DataLoader, ConcatDataset\n",
        "from torchvision import transforms, models, datasets\n",
        "\n",
        "if torch.cuda.is_available():\n",
        "    print('CUDA is available. Working on GPU')\n",
        "    DEVICE = torch.device('cuda')\n",
        "else:\n",
        "    print('CUDA is not available. Working on CPU')\n",
        "    DEVICE = torch.device('cpu')"
      ],
      "metadata": {
        "tags": [],
        "trusted": true,
        "colab": {
          "base_uri": "https://localhost:8080/"
        },
        "id": "jIhkqE8UgCv5",
        "outputId": "0bb1080d-173a-4ace-a752-b224fc4eb1c9"
      },
      "execution_count": 5,
      "outputs": [
        {
          "output_type": "stream",
          "name": "stdout",
          "text": [
            "CUDA is available. Working on GPU\n"
          ]
        }
      ],
      "id": "jIhkqE8UgCv5"
    },
    {
      "cell_type": "code",
      "source": [
        "SEED = 42 # \"Answer to the Ultimate Question of Life, the Universe, and Everything\"\n",
        "def seed_everything(seed):\n",
        "    random.seed(seed)\n",
        "    np.random.seed(seed)\n",
        "    torch.manual_seed(seed)\n",
        "    torch.cuda.manual_seed(seed)\n",
        "    torch.backends.cudnn.deterministic = True\n",
        "\n",
        "seed_everything(SEED)\n",
        "\n",
        "batch_size = 64\n",
        "\n",
        "device = torch.device(\"cuda\" if torch.cuda.is_available() else \"cpu\")\n",
        "print(device)\n",
        "\n",
        "root_dir = '/content/chest_xray/'\n",
        "\n",
        "train_dir = os.path.join(root_dir, 'train')\n",
        "valid_dir = os.path.join(root_dir, 'val')\n",
        "test_dir  = os.path.join(root_dir, 'test')\n",
        "\n",
        "img_size = 224"
      ],
      "metadata": {
        "tags": [],
        "trusted": true,
        "colab": {
          "base_uri": "https://localhost:8080/"
        },
        "id": "YWjOTT7PgCv-",
        "outputId": "faf24998-1e78-48c1-b850-d8556e5da557"
      },
      "execution_count": 6,
      "outputs": [
        {
          "output_type": "stream",
          "name": "stdout",
          "text": [
            "cuda\n"
          ]
        }
      ],
      "id": "YWjOTT7PgCv-"
    },
    {
      "cell_type": "code",
      "source": [
        "# unused (actually used for plotting), better way found (marked as \"* better way\")\n",
        "def  generate_dataframes(root_dir):\n",
        "    train_df = pd.DataFrame(columns=['xray_dir', 'pneumonia (label)'])\n",
        "    test_df  = pd.DataFrame(columns=['xray_dir', 'pneumonia (label)'])\n",
        "    valid_df = pd.DataFrame(columns=['xray_dir', 'pneumonia (label)'])\n",
        "\n",
        "    for dirname, _, filenames in os.walk(root_dir):\n",
        "\n",
        "        # Train\n",
        "        if dirname == root_dir + 'train/' + 'NORMAL':\n",
        "            for filename in filenames:\n",
        "                train_df.loc[len(train_df)] = [dirname + '/' + filename, 0]\n",
        "\n",
        "        elif dirname == root_dir + 'train/' + 'PNEUMONIA':\n",
        "            for filename in filenames:\n",
        "                train_df.loc[len(train_df)] = [dirname + '/' + filename, 1]\n",
        "\n",
        "        # Test\n",
        "        if dirname == root_dir + 'test/' + 'NORMAL':\n",
        "            for filename in filenames:\n",
        "                test_df.loc[len(test_df)] = [dirname + '/' + filename, 0]\n",
        "\n",
        "        elif dirname == root_dir + 'test/' + 'PNEUMONIA':\n",
        "            for filename in filenames:\n",
        "                test_df.loc[len(test_df)] = [dirname + '/' + filename, 1]\n",
        "\n",
        "        # Validation\n",
        "        if dirname == root_dir + 'val/' + 'NORMAL':\n",
        "            for filename in filenames:\n",
        "                valid_df.loc[len(valid_df)] = [dirname + '/' + filename, 0]\n",
        "\n",
        "        elif dirname == root_dir + 'val/' + 'PNEUMONIA':\n",
        "            for filename in filenames:\n",
        "                valid_df.loc[len(valid_df)] = [dirname + '/' + filename, 1]\n",
        "\n",
        "    return train_df, test_df, valid_df\n",
        "\n",
        "train_df, test_df, valid_df = generate_dataframes(root_dir)"
      ],
      "metadata": {
        "tags": [],
        "trusted": true,
        "id": "Roy-cNYygCwC"
      },
      "execution_count": 7,
      "outputs": [],
      "id": "Roy-cNYygCwC"
    },
    {
      "cell_type": "code",
      "source": [
        "train_df.head(2)"
      ],
      "metadata": {
        "tags": [],
        "trusted": true,
        "colab": {
          "base_uri": "https://localhost:8080/",
          "height": 112
        },
        "id": "Lq3dn3JJgCwF",
        "outputId": "3b4724b9-03b9-433a-f3e0-eebfb001c650"
      },
      "execution_count": 8,
      "outputs": [
        {
          "output_type": "execute_result",
          "data": {
            "text/plain": [
              "                                            xray_dir  pneumonia (label)\n",
              "0  /content/chest_xray/train/PNEUMONIA/person1597...                  1\n",
              "1  /content/chest_xray/train/PNEUMONIA/person23_b...                  1"
            ],
            "text/html": [
              "\n",
              "  <div id=\"df-ba4a4efd-9b73-488d-9a07-9f2d89f315c4\" class=\"colab-df-container\">\n",
              "    <div>\n",
              "<style scoped>\n",
              "    .dataframe tbody tr th:only-of-type {\n",
              "        vertical-align: middle;\n",
              "    }\n",
              "\n",
              "    .dataframe tbody tr th {\n",
              "        vertical-align: top;\n",
              "    }\n",
              "\n",
              "    .dataframe thead th {\n",
              "        text-align: right;\n",
              "    }\n",
              "</style>\n",
              "<table border=\"1\" class=\"dataframe\">\n",
              "  <thead>\n",
              "    <tr style=\"text-align: right;\">\n",
              "      <th></th>\n",
              "      <th>xray_dir</th>\n",
              "      <th>pneumonia (label)</th>\n",
              "    </tr>\n",
              "  </thead>\n",
              "  <tbody>\n",
              "    <tr>\n",
              "      <th>0</th>\n",
              "      <td>/content/chest_xray/train/PNEUMONIA/person1597...</td>\n",
              "      <td>1</td>\n",
              "    </tr>\n",
              "    <tr>\n",
              "      <th>1</th>\n",
              "      <td>/content/chest_xray/train/PNEUMONIA/person23_b...</td>\n",
              "      <td>1</td>\n",
              "    </tr>\n",
              "  </tbody>\n",
              "</table>\n",
              "</div>\n",
              "    <div class=\"colab-df-buttons\">\n",
              "\n",
              "  <div class=\"colab-df-container\">\n",
              "    <button class=\"colab-df-convert\" onclick=\"convertToInteractive('df-ba4a4efd-9b73-488d-9a07-9f2d89f315c4')\"\n",
              "            title=\"Convert this dataframe to an interactive table.\"\n",
              "            style=\"display:none;\">\n",
              "\n",
              "  <svg xmlns=\"http://www.w3.org/2000/svg\" height=\"24px\" viewBox=\"0 -960 960 960\">\n",
              "    <path d=\"M120-120v-720h720v720H120Zm60-500h600v-160H180v160Zm220 220h160v-160H400v160Zm0 220h160v-160H400v160ZM180-400h160v-160H180v160Zm440 0h160v-160H620v160ZM180-180h160v-160H180v160Zm440 0h160v-160H620v160Z\"/>\n",
              "  </svg>\n",
              "    </button>\n",
              "\n",
              "  <style>\n",
              "    .colab-df-container {\n",
              "      display:flex;\n",
              "      gap: 12px;\n",
              "    }\n",
              "\n",
              "    .colab-df-convert {\n",
              "      background-color: #E8F0FE;\n",
              "      border: none;\n",
              "      border-radius: 50%;\n",
              "      cursor: pointer;\n",
              "      display: none;\n",
              "      fill: #1967D2;\n",
              "      height: 32px;\n",
              "      padding: 0 0 0 0;\n",
              "      width: 32px;\n",
              "    }\n",
              "\n",
              "    .colab-df-convert:hover {\n",
              "      background-color: #E2EBFA;\n",
              "      box-shadow: 0px 1px 2px rgba(60, 64, 67, 0.3), 0px 1px 3px 1px rgba(60, 64, 67, 0.15);\n",
              "      fill: #174EA6;\n",
              "    }\n",
              "\n",
              "    .colab-df-buttons div {\n",
              "      margin-bottom: 4px;\n",
              "    }\n",
              "\n",
              "    [theme=dark] .colab-df-convert {\n",
              "      background-color: #3B4455;\n",
              "      fill: #D2E3FC;\n",
              "    }\n",
              "\n",
              "    [theme=dark] .colab-df-convert:hover {\n",
              "      background-color: #434B5C;\n",
              "      box-shadow: 0px 1px 3px 1px rgba(0, 0, 0, 0.15);\n",
              "      filter: drop-shadow(0px 1px 2px rgba(0, 0, 0, 0.3));\n",
              "      fill: #FFFFFF;\n",
              "    }\n",
              "  </style>\n",
              "\n",
              "    <script>\n",
              "      const buttonEl =\n",
              "        document.querySelector('#df-ba4a4efd-9b73-488d-9a07-9f2d89f315c4 button.colab-df-convert');\n",
              "      buttonEl.style.display =\n",
              "        google.colab.kernel.accessAllowed ? 'block' : 'none';\n",
              "\n",
              "      async function convertToInteractive(key) {\n",
              "        const element = document.querySelector('#df-ba4a4efd-9b73-488d-9a07-9f2d89f315c4');\n",
              "        const dataTable =\n",
              "          await google.colab.kernel.invokeFunction('convertToInteractive',\n",
              "                                                    [key], {});\n",
              "        if (!dataTable) return;\n",
              "\n",
              "        const docLinkHtml = 'Like what you see? Visit the ' +\n",
              "          '<a target=\"_blank\" href=https://colab.research.google.com/notebooks/data_table.ipynb>data table notebook</a>'\n",
              "          + ' to learn more about interactive tables.';\n",
              "        element.innerHTML = '';\n",
              "        dataTable['output_type'] = 'display_data';\n",
              "        await google.colab.output.renderOutput(dataTable, element);\n",
              "        const docLink = document.createElement('div');\n",
              "        docLink.innerHTML = docLinkHtml;\n",
              "        element.appendChild(docLink);\n",
              "      }\n",
              "    </script>\n",
              "  </div>\n",
              "\n",
              "\n",
              "<div id=\"df-bf13c140-5759-4f7b-8bba-ff69645ba08b\">\n",
              "  <button class=\"colab-df-quickchart\" onclick=\"quickchart('df-bf13c140-5759-4f7b-8bba-ff69645ba08b')\"\n",
              "            title=\"Suggest charts\"\n",
              "            style=\"display:none;\">\n",
              "\n",
              "<svg xmlns=\"http://www.w3.org/2000/svg\" height=\"24px\"viewBox=\"0 0 24 24\"\n",
              "     width=\"24px\">\n",
              "    <g>\n",
              "        <path d=\"M19 3H5c-1.1 0-2 .9-2 2v14c0 1.1.9 2 2 2h14c1.1 0 2-.9 2-2V5c0-1.1-.9-2-2-2zM9 17H7v-7h2v7zm4 0h-2V7h2v10zm4 0h-2v-4h2v4z\"/>\n",
              "    </g>\n",
              "</svg>\n",
              "  </button>\n",
              "\n",
              "<style>\n",
              "  .colab-df-quickchart {\n",
              "      --bg-color: #E8F0FE;\n",
              "      --fill-color: #1967D2;\n",
              "      --hover-bg-color: #E2EBFA;\n",
              "      --hover-fill-color: #174EA6;\n",
              "      --disabled-fill-color: #AAA;\n",
              "      --disabled-bg-color: #DDD;\n",
              "  }\n",
              "\n",
              "  [theme=dark] .colab-df-quickchart {\n",
              "      --bg-color: #3B4455;\n",
              "      --fill-color: #D2E3FC;\n",
              "      --hover-bg-color: #434B5C;\n",
              "      --hover-fill-color: #FFFFFF;\n",
              "      --disabled-bg-color: #3B4455;\n",
              "      --disabled-fill-color: #666;\n",
              "  }\n",
              "\n",
              "  .colab-df-quickchart {\n",
              "    background-color: var(--bg-color);\n",
              "    border: none;\n",
              "    border-radius: 50%;\n",
              "    cursor: pointer;\n",
              "    display: none;\n",
              "    fill: var(--fill-color);\n",
              "    height: 32px;\n",
              "    padding: 0;\n",
              "    width: 32px;\n",
              "  }\n",
              "\n",
              "  .colab-df-quickchart:hover {\n",
              "    background-color: var(--hover-bg-color);\n",
              "    box-shadow: 0 1px 2px rgba(60, 64, 67, 0.3), 0 1px 3px 1px rgba(60, 64, 67, 0.15);\n",
              "    fill: var(--button-hover-fill-color);\n",
              "  }\n",
              "\n",
              "  .colab-df-quickchart-complete:disabled,\n",
              "  .colab-df-quickchart-complete:disabled:hover {\n",
              "    background-color: var(--disabled-bg-color);\n",
              "    fill: var(--disabled-fill-color);\n",
              "    box-shadow: none;\n",
              "  }\n",
              "\n",
              "  .colab-df-spinner {\n",
              "    border: 2px solid var(--fill-color);\n",
              "    border-color: transparent;\n",
              "    border-bottom-color: var(--fill-color);\n",
              "    animation:\n",
              "      spin 1s steps(1) infinite;\n",
              "  }\n",
              "\n",
              "  @keyframes spin {\n",
              "    0% {\n",
              "      border-color: transparent;\n",
              "      border-bottom-color: var(--fill-color);\n",
              "      border-left-color: var(--fill-color);\n",
              "    }\n",
              "    20% {\n",
              "      border-color: transparent;\n",
              "      border-left-color: var(--fill-color);\n",
              "      border-top-color: var(--fill-color);\n",
              "    }\n",
              "    30% {\n",
              "      border-color: transparent;\n",
              "      border-left-color: var(--fill-color);\n",
              "      border-top-color: var(--fill-color);\n",
              "      border-right-color: var(--fill-color);\n",
              "    }\n",
              "    40% {\n",
              "      border-color: transparent;\n",
              "      border-right-color: var(--fill-color);\n",
              "      border-top-color: var(--fill-color);\n",
              "    }\n",
              "    60% {\n",
              "      border-color: transparent;\n",
              "      border-right-color: var(--fill-color);\n",
              "    }\n",
              "    80% {\n",
              "      border-color: transparent;\n",
              "      border-right-color: var(--fill-color);\n",
              "      border-bottom-color: var(--fill-color);\n",
              "    }\n",
              "    90% {\n",
              "      border-color: transparent;\n",
              "      border-bottom-color: var(--fill-color);\n",
              "    }\n",
              "  }\n",
              "</style>\n",
              "\n",
              "  <script>\n",
              "    async function quickchart(key) {\n",
              "      const quickchartButtonEl =\n",
              "        document.querySelector('#' + key + ' button');\n",
              "      quickchartButtonEl.disabled = true;  // To prevent multiple clicks.\n",
              "      quickchartButtonEl.classList.add('colab-df-spinner');\n",
              "      try {\n",
              "        const charts = await google.colab.kernel.invokeFunction(\n",
              "            'suggestCharts', [key], {});\n",
              "      } catch (error) {\n",
              "        console.error('Error during call to suggestCharts:', error);\n",
              "      }\n",
              "      quickchartButtonEl.classList.remove('colab-df-spinner');\n",
              "      quickchartButtonEl.classList.add('colab-df-quickchart-complete');\n",
              "    }\n",
              "    (() => {\n",
              "      let quickchartButtonEl =\n",
              "        document.querySelector('#df-bf13c140-5759-4f7b-8bba-ff69645ba08b button');\n",
              "      quickchartButtonEl.style.display =\n",
              "        google.colab.kernel.accessAllowed ? 'block' : 'none';\n",
              "    })();\n",
              "  </script>\n",
              "</div>\n",
              "    </div>\n",
              "  </div>\n"
            ]
          },
          "metadata": {},
          "execution_count": 8
        }
      ],
      "id": "Lq3dn3JJgCwF"
    },
    {
      "cell_type": "code",
      "source": [
        "counts = train_df['pneumonia (label)'].value_counts()\n",
        "counts"
      ],
      "metadata": {
        "tags": [],
        "trusted": true,
        "colab": {
          "base_uri": "https://localhost:8080/"
        },
        "id": "smCZiVKqgCwI",
        "outputId": "7a536369-75e0-4c04-f47e-08c925fb6571"
      },
      "execution_count": 9,
      "outputs": [
        {
          "output_type": "execute_result",
          "data": {
            "text/plain": [
              "1    3875\n",
              "0    1341\n",
              "Name: pneumonia (label), dtype: int64"
            ]
          },
          "metadata": {},
          "execution_count": 9
        }
      ],
      "id": "smCZiVKqgCwI"
    },
    {
      "cell_type": "code",
      "source": [
        "plt.bar(counts.index, counts)\n",
        "plt.title('Pneumonia x Normal')"
      ],
      "metadata": {
        "tags": [],
        "trusted": true,
        "colab": {
          "base_uri": "https://localhost:8080/",
          "height": 469
        },
        "id": "T-MkuQCKgCwJ",
        "outputId": "664c5f63-2073-4baa-84dd-4a2f5ecf46b6"
      },
      "execution_count": 10,
      "outputs": [
        {
          "output_type": "execute_result",
          "data": {
            "text/plain": [
              "Text(0.5, 1.0, 'Pneumonia x Normal')"
            ]
          },
          "metadata": {},
          "execution_count": 10
        },
        {
          "output_type": "display_data",
          "data": {
            "text/plain": [
              "<Figure size 640x480 with 1 Axes>"
            ],
            "image/png": "[encoded data removed]"
          },
          "metadata": {}
        }
      ],
      "id": "T-MkuQCKgCwJ"
    },
    {
      "cell_type": "code",
      "source": [
        "class Dataset(Dataset):\n",
        "    def __init__(self, data, target, transform=None, device=device):\n",
        "        self.device = device\n",
        "        self.data = data\n",
        "        self.target = target\n",
        "        self.transform = transform\n",
        "\n",
        "    def __len__(self):\n",
        "        return len(self.data)\n",
        "\n",
        "    def __getitem__(self, index):\n",
        "        x = self.data[index].to(self.device)\n",
        "        y = self.target[index].to(self.device)\n",
        "\n",
        "        #if (y == 0) and self.transform: # check for minority class\n",
        "        x = self.transform(x)\n",
        "\n",
        "        return x, y\n",
        "\n",
        "# num_classes = 2\n",
        "def unbalanced_dataset_weights(instances):\n",
        "    count = [0] * 2\n",
        "    for item in instances:\n",
        "        count[item[1]] += 1\n",
        "\n",
        "    class_weight = [0.] * 2\n",
        "    total = float(sum(count))\n",
        "\n",
        "    for i in range(2):\n",
        "        class_weight[i] = total/float(count[i])\n",
        "\n",
        "    weight = [0] * len(instances)\n",
        "\n",
        "    for index, value in enumerate(instances):\n",
        "        weight[index] = class_weight[value[1]]\n",
        "\n",
        "    return weight\n",
        "\n",
        "\n",
        "transform = transforms.Compose([transforms.Resize((img_size, img_size)),\n",
        "                                transforms.RandomRotation(30),\n",
        "                                transforms.RandomHorizontalFlip(p=0.5),\n",
        "                                transforms.ToTensor()])\n",
        "\n",
        "train_ds = datasets.ImageFolder(train_dir, transform)\n",
        "weights = unbalanced_dataset_weights(train_ds.imgs)\n",
        "weights = torch.tensor(weights, dtype=torch.double)\n",
        "sampler = torch.utils.data.sampler.WeightedRandomSampler(weights, len(weights))\n",
        "train_dataloader = torch.utils.data.DataLoader(train_ds, batch_size=batch_size, sampler= sampler)\n",
        "\n",
        "valid_ds = datasets.ImageFolder(valid_dir, transform)\n",
        "valid_dataloader = torch.utils.data.DataLoader(valid_ds, batch_size=2, shuffle=False)\n",
        "\n",
        "test_ds = datasets.ImageFolder(test_dir, transform)\n",
        "test_dataloader = torch.utils.data.DataLoader(test_ds, batch_size=1, shuffle=False)"
      ],
      "metadata": {
        "tags": [],
        "trusted": true,
        "id": "hp7ZQpLAgCwK"
      },
      "execution_count": 11,
      "outputs": [],
      "id": "hp7ZQpLAgCwK"
    },
    {
      "cell_type": "code",
      "source": [
        "import sys\n",
        "\n",
        "def training(model, model_name, num_epochs, train_dataloader, val_dataloader):\n",
        "\n",
        "    loss_function = torch.nn.CrossEntropyLoss()\n",
        "    optimizer = torch.optim.Adam(model.parameters(), lr=0.0003)\n",
        "    scheduler = torch.optim.lr_scheduler.StepLR(optimizer, step_size=3, gamma=0.33)\n",
        "\n",
        "    train_loss_array = []\n",
        "    train_acc_array = []\n",
        "    val_loss_array = []\n",
        "    val_acc_array = []\n",
        "    lowest_val_loss = np.inf\n",
        "    best_model = None\n",
        "\n",
        "    for epoch in range(num_epochs):\n",
        "\n",
        "        print('Epoch: {} | Learning rate: {}'.format(epoch + 1, scheduler.get_lr()))\n",
        "\n",
        "        for phase in ['train', 'val']:\n",
        "\n",
        "            epoch_loss = 0\n",
        "            epoch_correct_items = 0\n",
        "            epoch_items = 0\n",
        "\n",
        "            if phase == 'train':\n",
        "                model.train()\n",
        "                with torch.enable_grad():\n",
        "                    for samples, targets in tqdm(train_dataloader):\n",
        "                        samples = samples.to(DEVICE)\n",
        "                        targets = targets.to(DEVICE)\n",
        "\n",
        "                        optimizer.zero_grad()\n",
        "                        outputs = model(samples)\n",
        "                        loss = loss_function(outputs, targets)\n",
        "                        preds = outputs.argmax(dim=1)\n",
        "                        correct_items = (preds == targets).float().sum()\n",
        "\n",
        "                        loss.backward()\n",
        "                        optimizer.step()\n",
        "\n",
        "                        epoch_loss += loss.item()\n",
        "                        epoch_correct_items += correct_items.item()\n",
        "                        epoch_items += len(targets)\n",
        "                print(epoch_items)\n",
        "\n",
        "                train_loss_array.append(epoch_loss / epoch_items)\n",
        "                train_acc_array.append(epoch_correct_items / epoch_items)\n",
        "\n",
        "                scheduler.step()\n",
        "\n",
        "            elif phase == 'val':\n",
        "                model.eval()\n",
        "                with torch.no_grad():\n",
        "                    for samples, targets in tqdm(val_dataloader, file=sys.stdout):\n",
        "                        samples = samples.to(DEVICE)\n",
        "                        targets = targets.to(DEVICE)\n",
        "\n",
        "                        outputs = model(samples)\n",
        "                        loss = loss_function(outputs, targets)\n",
        "                        preds = outputs.argmax(dim=1)\n",
        "                        correct_items = (preds == targets).float().sum()\n",
        "\n",
        "                        epoch_loss += loss.item()\n",
        "                        epoch_correct_items += correct_items.item()\n",
        "                        epoch_items += len(targets)\n",
        "                print(epoch_items)\n",
        "\n",
        "                val_loss_array.append(epoch_loss / epoch_items)\n",
        "                val_acc_array.append(epoch_correct_items / epoch_items)\n",
        "\n",
        "                if epoch_loss / epoch_items < lowest_val_loss:\n",
        "                    lowest_val_loss = epoch_loss / epoch_items\n",
        "                    torch.save(model.state_dict(), '{}_weights.pth'.format(model_name))\n",
        "                    best_model = copy.deepcopy(model)\n",
        "                    print(\"\\t| New lowest val loss for {}: {}\".format(model_name, lowest_val_loss))\n",
        "\n",
        "    return best_model, train_loss_array, train_acc_array, val_loss_array, val_acc_array"
      ],
      "metadata": {
        "tags": [],
        "trusted": true,
        "id": "K8zjEJ78gCwM"
      },
      "execution_count": 12,
      "outputs": [],
      "id": "K8zjEJ78gCwM"
    },
    {
      "cell_type": "code",
      "source": [
        "def visualize_training_results(train_loss_array,\n",
        "                               val_loss_array,\n",
        "                               train_acc_array,\n",
        "                               val_acc_array,\n",
        "                               num_epochs,\n",
        "                               model_name,\n",
        "                               batch_size):\n",
        "    fig, axs = plt.subplots(1, 2, figsize=(14,4))\n",
        "    fig.suptitle(\"{} training | Batch size: {}\".format(model_name, batch_size), fontsize = 16)\n",
        "    axs[0].plot(list(range(1, num_epochs+1)), train_loss_array, label=\"train_loss\")\n",
        "    axs[0].plot(list(range(1, num_epochs+1)), val_loss_array, label=\"val_loss\")\n",
        "    axs[0].legend(loc='best')\n",
        "    axs[0].set(xlabel='epochs', ylabel='loss')\n",
        "    axs[1].plot(list(range(1, num_epochs+1)), train_acc_array, label=\"train_acc\")\n",
        "    axs[1].plot(list(range(1, num_epochs+1)), val_acc_array, label=\"val_acc\")\n",
        "    axs[1].legend(loc='best')\n",
        "    axs[1].set(xlabel='epochs', ylabel='accuracy')\n",
        "    plt.show();"
      ],
      "metadata": {
        "tags": [],
        "trusted": true,
        "id": "WSA63J9YgCwN"
      },
      "execution_count": 13,
      "outputs": [],
      "id": "WSA63J9YgCwN"
    },
    {
      "cell_type": "markdown",
      "source": [
        "## Train Densenet"
      ],
      "metadata": {
        "id": "FN-IxZZqgCwP"
      },
      "id": "FN-IxZZqgCwP"
    },
    {
      "cell_type": "code",
      "source": [
        "num_epochs = 2\n",
        "\n",
        "model_densenet161 = models.densenet161(pretrained=True)\n",
        "for param in model_densenet161.parameters():\n",
        "    param.requires_grad = False\n",
        "model_densenet161.classifier = torch.nn.Linear(model_densenet161.classifier.in_features, out_features=2)\n",
        "model_densenet161 = model_densenet161.to(DEVICE)\n",
        "\n",
        "densenet161_training_results = training(model=model_densenet161,\n",
        "                                        model_name='DenseNet161',\n",
        "                                        num_epochs=num_epochs,\n",
        "                                        train_dataloader=train_dataloader,\n",
        "                                        val_dataloader=test_dataloader)\n",
        "\n",
        "model_densenet161, train_loss_array, train_acc_array, val_loss_array, val_acc_array = densenet161_training_results\n",
        "\n",
        "min_loss = min(val_loss_array)\n",
        "min_loss_epoch = val_loss_array.index(min_loss)\n",
        "min_loss_accuracy = val_acc_array[min_loss_epoch]\n",
        "\n",
        "visualize_training_results(train_loss_array,\n",
        "                           val_loss_array,\n",
        "                           train_acc_array,\n",
        "                           val_acc_array,\n",
        "                           num_epochs,\n",
        "                           model_name=\"DenseNet161\",\n",
        "                           batch_size=64)\n",
        "print(\"\\nTraining results:\")\n",
        "print(\"\\tMin val loss {:.4f} was achieved during epoch #{}\".format(min_loss, min_loss_epoch + 1))\n",
        "print(\"\\tVal accuracy during min val loss is {:.4f}\".format(min_loss_accuracy))"
      ],
      "metadata": {
        "scrolled": true,
        "tags": [],
        "trusted": true,
        "colab": {
          "base_uri": "https://localhost:8080/"
        },
        "id": "tyPJ3eDFgCwU",
        "outputId": "ad679177-6dfa-4c4f-86f7-72642cbb2462"
      },
      "execution_count": null,
      "outputs": [
        {
          "output_type": "stream",
          "name": "stderr",
          "text": [
            "/usr/local/lib/python3.10/dist-packages/torchvision/models/_utils.py:208: UserWarning: The parameter 'pretrained' is deprecated since 0.13 and may be removed in the future, please use 'weights' instead.\n",
            "  warnings.warn(\n",
            "/usr/local/lib/python3.10/dist-packages/torchvision/models/_utils.py:223: UserWarning: Arguments other than a weight enum or `None` for 'weights' are deprecated since 0.13 and may be removed in the future. The current behavior is equivalent to passing `weights=DenseNet161_Weights.IMAGENET1K_V1`. You can also use `weights=DenseNet161_Weights.DEFAULT` to get the most up-to-date weights.\n",
            "  warnings.warn(msg)\n",
            "Downloading: \"https://download.pytorch.org/models/densenet161-8d451a50.pth\" to /root/.cache/torch/hub/checkpoints/densenet161-8d451a50.pth\n",
            "100%|██████████| 110M/110M [00:00<00:00, 139MB/s] \n",
            "/usr/local/lib/python3.10/dist-packages/torch/optim/lr_scheduler.py:384: UserWarning: To get the last learning rate computed by the scheduler, please use `get_last_lr()`.\n",
            "  warnings.warn(\"To get the last learning rate computed by the scheduler, \"\n"
          ]
        },
        {
          "output_type": "stream",
          "name": "stdout",
          "text": [
            "Epoch: 1 | Learning rate: [0.0003]\n"
          ]
        },
        {
          "output_type": "stream",
          "name": "stderr",
          "text": [
            " 79%|███████▉  | 65/82 [02:06<00:36,  2.12s/it]"
          ]
        }
      ],
      "id": "tyPJ3eDFgCwU"
    },
    {
      "cell_type": "markdown",
      "source": [
        "## Resnet 152"
      ],
      "metadata": {
        "id": "I5wNRmXXgCwW"
      },
      "id": "I5wNRmXXgCwW"
    },
    {
      "cell_type": "code",
      "source": [
        "model_resnet152 = models.resnet152(pretrained=True)\n",
        "for param in model_resnet152.parameters():\n",
        "    param.requires_grad = False\n",
        "model_resnet152.fc = torch.nn.Linear(model_resnet152.fc.in_features, 2)\n",
        "model_resnet152 = model_resnet152.to(DEVICE)\n",
        "\n",
        "resnet152_training_results = training(model=model_resnet152,\n",
        "                                      model_name='ResNet152',\n",
        "                                      num_epochs=num_epochs,\n",
        "                                      train_dataloader=train_dataloader,\n",
        "                                      val_dataloader=valid_dataloader)\n",
        "\n",
        "model_resnet152, train_loss_array, train_acc_array, val_loss_array, val_acc_array = resnet152_training_results\n",
        "\n",
        "min_loss = min(val_loss_array)\n",
        "min_loss_epoch = val_loss_array.index(min_loss)\n",
        "min_loss_accuracy = val_acc_array[min_loss_epoch]\n",
        "\n",
        "visualize_training_results(train_loss_array,\n",
        "                           val_loss_array,\n",
        "                           train_acc_array,\n",
        "                           val_acc_array,\n",
        "                           num_epochs,\n",
        "                           model_name=\"ResNet152\",\n",
        "                           batch_size=64)\n",
        "print(\"\\nTraining results:\")\n",
        "print(\"\\tMin val loss {:.4f} was achieved during epoch #{}\".format(min_loss, min_loss_epoch + 1))\n",
        "print(\"\\tVal accuracy during min val loss is {:.4f}\".format(min_loss_accuracy))"
      ],
      "metadata": {
        "scrolled": true,
        "tags": [],
        "trusted": true,
        "id": "idpL2Q2LgCwX"
      },
      "execution_count": null,
      "outputs": [],
      "id": "idpL2Q2LgCwX"
    },
    {
      "cell_type": "markdown",
      "source": [
        "## VGG19"
      ],
      "metadata": {
        "id": "q54-2QWYgCwY"
      },
      "id": "q54-2QWYgCwY"
    },
    {
      "cell_type": "code",
      "source": [
        "model_vgg19_bn = models.vgg19_bn(pretrained=True)\n",
        "for param in model_vgg19_bn.parameters():\n",
        "    param.requires_grad = False\n",
        "model_vgg19_bn.classifier[6] = torch.nn.Linear(in_features=model_vgg19_bn.classifier[6].in_features, out_features=2)\n",
        "model_vgg19_bn = model_vgg19_bn.to(DEVICE)\n",
        "\n",
        "vgg19_bn_training_results = training(model=model_vgg19_bn,\n",
        "                                     model_name='VGG19_bn',\n",
        "                                     num_epochs=num_epochs,\n",
        "                                     train_dataloader=train_dataloader,\n",
        "                                     val_dataloader=valid_dataloader)\n",
        "\n",
        "model_vgg19_bn, train_loss_array, train_acc_array, val_loss_array, val_acc_array = vgg19_bn_training_results\n",
        "\n",
        "min_loss = min(val_loss_array)\n",
        "min_loss_epoch = val_loss_array.index(min_loss)\n",
        "min_loss_accuracy = val_acc_array[min_loss_epoch]\n",
        "\n",
        "visualize_training_results(train_loss_array,\n",
        "                           val_loss_array,\n",
        "                           train_acc_array,\n",
        "                           val_acc_array,\n",
        "                           num_epochs,\n",
        "                           model_name=\"VGG19_bn\",\n",
        "                           batch_size=64)\n",
        "print(\"\\nTraining results:\")\n",
        "print(\"\\tMin val loss {:.4f} was achieved during epoch #{}\".format(min_loss, min_loss_epoch + 1))\n",
        "print(\"\\tVal accuracy during min val loss is {:.4f}\".format(min_loss_accuracy))"
      ],
      "metadata": {
        "scrolled": true,
        "tags": [],
        "trusted": true,
        "id": "dLYO4QX0gCwY"
      },
      "execution_count": null,
      "outputs": [],
      "id": "dLYO4QX0gCwY"
    },
    {
      "cell_type": "markdown",
      "source": [
        "## Training ensemble."
      ],
      "metadata": {
        "id": "6JNcEEDXgCwZ"
      },
      "id": "6JNcEEDXgCwZ"
    },
    {
      "cell_type": "code",
      "source": [
        "class EnsembleModel(nn.Module):\n",
        "    def __init__(self, modelA, modelB, modelC):\n",
        "        super().__init__()\n",
        "        self.modelA = modelA\n",
        "        self.modelB = modelB\n",
        "        self.modelC = modelC\n",
        "        self.classifier = nn.Linear(2 * 3, 2)\n",
        "\n",
        "    def forward(self, x):\n",
        "        x1 = self.modelA(x)\n",
        "        x2 = self.modelB(x)\n",
        "        x3 = self.modelC(x)\n",
        "        x = torch.cat((x1, x2, x3), dim=1)\n",
        "        out = self.classifier(x)\n",
        "        return out\n",
        "\n",
        "ensemble_model = EnsembleModel(model_densenet161, model_resnet152, model_vgg19_bn)\n",
        "\n",
        "for param in ensemble_model.parameters():\n",
        "    param.requires_grad = False\n",
        "\n",
        "for param in ensemble_model.classifier.parameters():\n",
        "    param.requires_grad = True\n",
        "\n",
        "ensemble_model = ensemble_model.to(DEVICE)"
      ],
      "metadata": {
        "tags": [],
        "trusted": true,
        "id": "oUVqir-fgCwa"
      },
      "execution_count": null,
      "outputs": [],
      "id": "oUVqir-fgCwa"
    },
    {
      "cell_type": "code",
      "source": [
        "ensemble_training_results = training(model=ensemble_model,\n",
        "                                     model_name='Ensemble',\n",
        "                                     num_epochs=50,\n",
        "                                     train_dataloader=train_dataloader,\n",
        "                                     val_dataloader=valid_dataloader)\n",
        "\n",
        "ensemble_model, train_loss_array, train_acc_array, val_loss_array, val_acc_array = ensemble_training_results\n",
        "\n",
        "min_loss = min(val_loss_array)\n",
        "min_loss_iteration = val_loss_array.index(min_loss)\n",
        "min_loss_accuracy = val_acc_array[min_loss_iteration]\n",
        "\n",
        "visualize_training_results(train_loss_array,\n",
        "                           val_loss_array,\n",
        "                           train_acc_array,\n",
        "                           val_acc_array,\n",
        "                           num_epochs=50,\n",
        "                           model_name=\"Ensemble model\",\n",
        "                           batch_size=64)\n",
        "print(\"\\nTraining results:\")\n",
        "print(\"\\tMin val loss {:.4f} was achieved during iteration #{}\".format(min_loss, min_loss_iteration + 1))\n",
        "print(\"\\tVal accuracy during min val loss is {:.4f}\".format(min_loss_accuracy))"
      ],
      "metadata": {
        "scrolled": true,
        "tags": [],
        "trusted": true,
        "id": "D9Feh3n4gCwb"
      },
      "execution_count": null,
      "outputs": [],
      "id": "D9Feh3n4gCwb"
    },
    {
      "cell_type": "code",
      "source": [],
      "metadata": {
        "id": "iyH8ZCLsgCwc"
      },
      "execution_count": null,
      "outputs": [],
      "id": "iyH8ZCLsgCwc"
    }
  ]
}
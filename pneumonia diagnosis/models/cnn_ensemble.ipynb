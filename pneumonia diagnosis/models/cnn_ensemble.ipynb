{
 "cells": [
  {
   "cell_type": "code",
   "execution_count": 2,
   "metadata": {},
   "outputs": [],
   "source": [
    "import torch\n",
    "import torchvision\n",
    "import googlenet"
   ]
  },
  {
   "cell_type": "code",
   "execution_count": 4,
   "metadata": {},
   "outputs": [
    {
     "data": {
      "text/plain": [
       "torch.Size([1, 3, 300, 300])"
      ]
     },
     "execution_count": 4,
     "metadata": {},
     "output_type": "execute_result"
    }
   ],
   "source": [
    "inputs = torch.rand((1, 3, 300, 300))\n",
    "inputs.shape"
   ]
  },
  {
   "cell_type": "code",
   "execution_count": 5,
   "metadata": {},
   "outputs": [
    {
     "data": {
      "text/plain": [
       "torch.Size([1, 1000])"
      ]
     },
     "execution_count": 5,
     "metadata": {},
     "output_type": "execute_result"
    }
   ],
   "source": [
    "model = googlenet.GoogLeNet()\n",
    "\n",
    "model.eval()\n",
    "\n",
    "out = model(inputs)\n",
    "out.shape"
   ]
  },
  {
   "cell_type": "code",
   "execution_count": 4,
   "metadata": {},
   "outputs": [],
   "source": [
    "import cnn_ensemble"
   ]
  },
  {
   "cell_type": "code",
   "execution_count": 3,
   "metadata": {},
   "outputs": [
    {
     "ename": "NameError",
     "evalue": "name 'cnn_ensemble' is not defined",
     "output_type": "error",
     "traceback": [
      "\u001b[0;31m---------------------------------------------------------------------------\u001b[0m",
      "\u001b[0;31mNameError\u001b[0m                                 Traceback (most recent call last)",
      "\u001b[1;32m/home/debonair/Documents/python/pneumonia-diagnosis/pneumonia diagnosis/models/cnn_ensemble.ipynb Cell 4\u001b[0m line \u001b[0;36m1\n\u001b[0;32m----> <a href='vscode-notebook-cell:/home/debonair/Documents/python/pneumonia-diagnosis/pneumonia%20diagnosis/models/cnn_ensemble.ipynb#W3sZmlsZQ%3D%3D?line=0'>1</a>\u001b[0m model \u001b[39m=\u001b[39m cnn_ensemble\u001b[39m.\u001b[39mEnsembleCNN()\n\u001b[1;32m      <a href='vscode-notebook-cell:/home/debonair/Documents/python/pneumonia-diagnosis/pneumonia%20diagnosis/models/cnn_ensemble.ipynb#W3sZmlsZQ%3D%3D?line=2'>3</a>\u001b[0m model\n",
      "\u001b[0;31mNameError\u001b[0m: name 'cnn_ensemble' is not defined"
     ]
    }
   ],
   "source": [
    "model = cnn_ensemble.EnsembleCNN()\n",
    "\n",
    "model"
   ]
  },
  {
   "cell_type": "code",
   "execution_count": 6,
   "metadata": {},
   "outputs": [
    {
     "ename": "TypeError",
     "evalue": "expected Tensor as element 2 in argument 0, but got GoogLeNetOutputs",
     "output_type": "error",
     "traceback": [
      "\u001b[0;31m---------------------------------------------------------------------------\u001b[0m",
      "\u001b[0;31mTypeError\u001b[0m                                 Traceback (most recent call last)",
      "\u001b[1;32m/home/debonair/Documents/python/pneumonia-diagnosis/pneumonia diagnosis/models/cnn_ensemble.ipynb Cell 5\u001b[0m line \u001b[0;36m1\n\u001b[0;32m----> <a href='vscode-notebook-cell:/home/debonair/Documents/python/pneumonia-diagnosis/pneumonia%20diagnosis/models/cnn_ensemble.ipynb#W6sZmlsZQ%3D%3D?line=0'>1</a>\u001b[0m out \u001b[39m=\u001b[39m model(inputs)\n\u001b[1;32m      <a href='vscode-notebook-cell:/home/debonair/Documents/python/pneumonia-diagnosis/pneumonia%20diagnosis/models/cnn_ensemble.ipynb#W6sZmlsZQ%3D%3D?line=1'>2</a>\u001b[0m out\u001b[39m.\u001b[39mshape\n",
      "File \u001b[0;32m~/anaconda3/lib/python3.11/site-packages/torch/nn/modules/module.py:1501\u001b[0m, in \u001b[0;36mModule._call_impl\u001b[0;34m(self, *args, **kwargs)\u001b[0m\n\u001b[1;32m   1496\u001b[0m \u001b[39m# If we don't have any hooks, we want to skip the rest of the logic in\u001b[39;00m\n\u001b[1;32m   1497\u001b[0m \u001b[39m# this function, and just call forward.\u001b[39;00m\n\u001b[1;32m   1498\u001b[0m \u001b[39mif\u001b[39;00m \u001b[39mnot\u001b[39;00m (\u001b[39mself\u001b[39m\u001b[39m.\u001b[39m_backward_hooks \u001b[39mor\u001b[39;00m \u001b[39mself\u001b[39m\u001b[39m.\u001b[39m_backward_pre_hooks \u001b[39mor\u001b[39;00m \u001b[39mself\u001b[39m\u001b[39m.\u001b[39m_forward_hooks \u001b[39mor\u001b[39;00m \u001b[39mself\u001b[39m\u001b[39m.\u001b[39m_forward_pre_hooks\n\u001b[1;32m   1499\u001b[0m         \u001b[39mor\u001b[39;00m _global_backward_pre_hooks \u001b[39mor\u001b[39;00m _global_backward_hooks\n\u001b[1;32m   1500\u001b[0m         \u001b[39mor\u001b[39;00m _global_forward_hooks \u001b[39mor\u001b[39;00m _global_forward_pre_hooks):\n\u001b[0;32m-> 1501\u001b[0m     \u001b[39mreturn\u001b[39;00m forward_call(\u001b[39m*\u001b[39margs, \u001b[39m*\u001b[39m\u001b[39m*\u001b[39mkwargs)\n\u001b[1;32m   1502\u001b[0m \u001b[39m# Do not call functions when jit is used\u001b[39;00m\n\u001b[1;32m   1503\u001b[0m full_backward_hooks, non_full_backward_hooks \u001b[39m=\u001b[39m [], []\n",
      "File \u001b[0;32m~/Documents/python/pneumonia-diagnosis/pneumonia diagnosis/models/cnn_ensemble.py:23\u001b[0m, in \u001b[0;36mEnsembleCNN.forward\u001b[0;34m(self, x)\u001b[0m\n\u001b[1;32m     20\u001b[0m efficnetnet_inputs \u001b[39m=\u001b[39m \u001b[39mself\u001b[39m\u001b[39m.\u001b[39mefficientnet_model(x)\n\u001b[1;32m     21\u001b[0m googlenet_inputs \u001b[39m=\u001b[39m \u001b[39mself\u001b[39m\u001b[39m.\u001b[39mgooglenet_model(x)\n\u001b[0;32m---> 23\u001b[0m inputs \u001b[39m=\u001b[39m torch\u001b[39m.\u001b[39mconcat([resnet_inputs, efficnetnet_inputs, googlenet_inputs])\n\u001b[1;32m     24\u001b[0m \u001b[39mreturn\u001b[39;00m inputs\n",
      "\u001b[0;31mTypeError\u001b[0m: expected Tensor as element 2 in argument 0, but got GoogLeNetOutputs"
     ]
    }
   ],
   "source": [
    "out = model(inputs)\n",
    "out.shape"
   ]
  },
  {
   "cell_type": "code",
   "execution_count": null,
   "metadata": {},
   "outputs": [],
   "source": []
  },
  {
   "cell_type": "code",
   "execution_count": 10,
   "metadata": {},
   "outputs": [
    {
     "name": "stderr",
     "output_type": "stream",
     "text": [
      "/home/debonair/anaconda3/lib/python3.11/site-packages/torchvision/models/googlenet.py:47: FutureWarning: The default weight initialization of GoogleNet will be changed in future releases of torchvision. If you wish to keep the old behavior (which leads to long initialization times due to scipy/scipy#11299), please set init_weights=True.\n",
      "  warnings.warn(\n"
     ]
    },
    {
     "ename": "AttributeError",
     "evalue": "'GoogLeNetOutputs' object has no attribute 'shape'",
     "output_type": "error",
     "traceback": [
      "\u001b[0;31m---------------------------------------------------------------------------\u001b[0m",
      "\u001b[0;31mAttributeError\u001b[0m                            Traceback (most recent call last)",
      "\u001b[1;32m/home/debonair/Documents/python/pneumonia-diagnosis/pneumonia diagnosis/models/cnn_ensemble.ipynb Cell 6\u001b[0m line \u001b[0;36m3\n\u001b[1;32m      <a href='vscode-notebook-cell:/home/debonair/Documents/python/pneumonia-diagnosis/pneumonia%20diagnosis/models/cnn_ensemble.ipynb#X10sZmlsZQ%3D%3D?line=0'>1</a>\u001b[0m googlenet \u001b[39m=\u001b[39m torchvision\u001b[39m.\u001b[39mmodels\u001b[39m.\u001b[39mGoogLeNet()\n\u001b[1;32m      <a href='vscode-notebook-cell:/home/debonair/Documents/python/pneumonia-diagnosis/pneumonia%20diagnosis/models/cnn_ensemble.ipynb#X10sZmlsZQ%3D%3D?line=1'>2</a>\u001b[0m out \u001b[39m=\u001b[39m googlenet(inputs)\n\u001b[0;32m----> <a href='vscode-notebook-cell:/home/debonair/Documents/python/pneumonia-diagnosis/pneumonia%20diagnosis/models/cnn_ensemble.ipynb#X10sZmlsZQ%3D%3D?line=2'>3</a>\u001b[0m out\u001b[39m.\u001b[39mshape\n",
      "\u001b[0;31mAttributeError\u001b[0m: 'GoogLeNetOutputs' object has no attribute 'shape'"
     ]
    }
   ],
   "source": [
    "googlenet = torchvision.models.GoogLeNet()\n",
    "out = googlenet(inputs)\n",
    "out.shape"
   ]
  },
  {
   "cell_type": "code",
   "execution_count": null,
   "metadata": {},
   "outputs": [],
   "source": []
  }
 ],
 "metadata": {
  "kernelspec": {
   "display_name": "base",
   "language": "python",
   "name": "python3"
  },
  "language_info": {
   "codemirror_mode": {
    "name": "ipython",
    "version": 3
   },
   "file_extension": ".py",
   "mimetype": "text/x-python",
   "name": "python",
   "nbconvert_exporter": "python",
   "pygments_lexer": "ipython3",
   "version": "3.11.3"
  }
 },
 "nbformat": 4,
 "nbformat_minor": 2
}
